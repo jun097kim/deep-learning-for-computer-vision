{
 "cells": [
  {
   "cell_type": "code",
   "execution_count": 86,
   "metadata": {},
   "outputs": [],
   "source": [
    "import tensorflow as tf"
   ]
  },
  {
   "cell_type": "markdown",
   "metadata": {},
   "source": [
    "## MNIST 데이터 로드하기"
   ]
  },
  {
   "cell_type": "code",
   "execution_count": 87,
   "metadata": {},
   "outputs": [],
   "source": [
    "from tensorflow.examples.tutorials.mnist import input_data"
   ]
  },
  {
   "cell_type": "code",
   "execution_count": 88,
   "metadata": {},
   "outputs": [
    {
     "name": "stdout",
     "output_type": "stream",
     "text": [
      "Extracting MNIST_data/train-images-idx3-ubyte.gz\n",
      "Extracting MNIST_data/train-labels-idx1-ubyte.gz\n",
      "Extracting MNIST_data/t10k-images-idx3-ubyte.gz\n",
      "Extracting MNIST_data/t10k-labels-idx1-ubyte.gz\n"
     ]
    }
   ],
   "source": [
    "# 레이블은 정수 형태이지만, 훈련을 위해서 one-hot 인코딩으로 로드\n",
    "mnist_data = input_data.read_data_sets('MNIST_data', one_hot=True)"
   ]
  },
  {
   "cell_type": "markdown",
   "metadata": {},
   "source": [
    "## 퍼셉트론 구축하기"
   ]
  },
  {
   "cell_type": "markdown",
   "metadata": {},
   "source": [
    "### 1. 입력 데이터와 타깃을 위한 플레이스홀더 정의하기"
   ]
  },
  {
   "cell_type": "code",
   "execution_count": 89,
   "metadata": {},
   "outputs": [],
   "source": [
    "input_size = 784\n",
    "no_classes = 10\n",
    "batch_size = 100\n",
    "total_batches = 200\n",
    "\n",
    "# batch size X input_size\n",
    "x_input = tf.placeholder(tf.float32, shape=[None, input_size])\n",
    "# batch_size X no_classes. one-hot label\n",
    "y_input = tf.placeholder(tf.float32, shape=[None, no_classes])"
   ]
  },
  {
   "cell_type": "markdown",
   "metadata": {},
   "source": [
    "### 2. Fully-connected Layer를 위한 변수 정의하기"
   ]
  },
  {
   "cell_type": "code",
   "execution_count": 90,
   "metadata": {},
   "outputs": [],
   "source": [
    "# input_size X no_classes (각 픽셀과 클래스 사이의 weight)\n",
    "weights = tf.Variable(tf.random_normal([input_size, no_classes]))\n",
    "# no_classes X 1 (클래스 수와 동일)\n",
    "bias = tf.Variable(tf.random_normal([no_classes]))"
   ]
  },
  {
   "cell_type": "code",
   "execution_count": 91,
   "metadata": {},
   "outputs": [],
   "source": [
    "# 입력 값에 weight를 부여하고 bias 값 추가\n",
    "# 각각의 입력 데이터가 어떤 클래스에 해당하는지 예측하고 bias 추가\n",
    "\n",
    "# 행렬간 곱셈 = batch size X no_classes\n",
    "logits = tf.matmul(x_input, weights) + bias"
   ]
  },
  {
   "cell_type": "code",
   "execution_count": 92,
   "metadata": {},
   "outputs": [],
   "source": [
    "# logits과 y_input 비교\n",
    "softmax_cross_entropy = tf.nn.softmax_cross_entropy_with_logits(\n",
    "    labels=y_input, logits=logits)\n",
    "# cross entropy의 평균으로 loss 계산\n",
    "loss_operation = tf.reduce_mean(softmax_cross_entropy)\n",
    "# loss_operation이 minimize되도록 weights, bias 학습\n",
    "optimizer = tf.train.GradientDescentOptimizer(\n",
    "    learning_rate=0.5).minimize(loss_operation)"
   ]
  },
  {
   "cell_type": "markdown",
   "metadata": {},
   "source": [
    "### 3. 데이터로 모델 훈련하기"
   ]
  },
  {
   "cell_type": "code",
   "execution_count": 93,
   "metadata": {},
   "outputs": [],
   "source": [
    "session = tf.Session()\n",
    "session.run(tf.global_variables_initializer())"
   ]
  },
  {
   "cell_type": "code",
   "execution_count": 94,
   "metadata": {},
   "outputs": [
    {
     "name": "stdout",
     "output_type": "stream",
     "text": [
      "12.549507\n",
      "10.303738\n",
      "9.886151\n",
      "10.036405\n",
      "9.105749\n",
      "8.109026\n",
      "7.758338\n",
      "7.1143303\n",
      "6.581842\n",
      "6.6122494\n",
      "5.4277587\n",
      "5.9613714\n",
      "5.493762\n",
      "4.527266\n",
      "4.15267\n",
      "3.9235642\n",
      "3.8214698\n",
      "4.7184477\n",
      "3.6918445\n",
      "3.940235\n",
      "3.580413\n",
      "3.4691718\n",
      "3.2349524\n",
      "4.001282\n",
      "2.4177122\n",
      "2.518409\n",
      "2.796557\n",
      "2.9077854\n",
      "2.4308178\n",
      "2.7283382\n",
      "2.8074083\n",
      "2.0199962\n",
      "2.1167533\n",
      "1.9936433\n",
      "3.071481\n",
      "2.5771775\n",
      "2.463134\n",
      "2.4444854\n",
      "2.8249805\n",
      "2.661185\n",
      "2.6819897\n",
      "2.011597\n",
      "2.351572\n",
      "2.502522\n",
      "2.1205957\n",
      "2.570936\n",
      "2.6338036\n",
      "3.2105875\n",
      "1.8866472\n",
      "2.0433636\n",
      "2.4081652\n",
      "1.7952274\n",
      "2.3253531\n",
      "2.083576\n",
      "1.7523733\n",
      "1.47138\n",
      "2.680623\n",
      "1.7624257\n",
      "1.6359097\n",
      "1.6935519\n",
      "1.5261779\n",
      "3.147039\n",
      "1.4984186\n",
      "2.0957031\n",
      "1.5685829\n",
      "1.7229098\n",
      "1.7797525\n",
      "1.7845474\n",
      "1.6160334\n",
      "1.7892532\n",
      "1.2114025\n",
      "0.85204697\n",
      "1.3429315\n",
      "1.6069521\n",
      "1.6100638\n",
      "1.577338\n",
      "2.0364125\n",
      "1.6292624\n",
      "1.6444706\n",
      "1.5949218\n",
      "1.9089807\n",
      "1.265163\n",
      "1.9554334\n",
      "1.649401\n",
      "1.2783394\n",
      "0.98577696\n",
      "1.4205319\n",
      "1.1842868\n",
      "1.7267466\n",
      "1.3236611\n",
      "1.0429368\n",
      "1.1885989\n",
      "1.0147243\n",
      "1.5921134\n",
      "1.1755929\n",
      "1.9423392\n",
      "1.4069498\n",
      "1.0841848\n",
      "1.5959255\n",
      "1.3499396\n",
      "1.661831\n",
      "1.854096\n",
      "0.8552011\n",
      "1.730037\n",
      "1.1607983\n",
      "1.6748362\n",
      "1.0927627\n",
      "1.1255798\n",
      "1.372123\n",
      "1.6698111\n",
      "1.730876\n",
      "1.119699\n",
      "1.428537\n",
      "1.1563039\n",
      "1.2450836\n",
      "1.0347923\n",
      "1.574386\n",
      "1.4126511\n",
      "1.2192978\n",
      "1.1580243\n",
      "1.2498302\n",
      "1.3246734\n",
      "1.3581207\n",
      "0.8117633\n",
      "0.91304696\n",
      "1.1142235\n",
      "1.4323366\n",
      "2.0592313\n",
      "1.5757312\n",
      "1.3479822\n",
      "1.7656813\n",
      "0.6863513\n",
      "1.3611711\n",
      "0.91747755\n",
      "1.4813493\n",
      "1.7603104\n",
      "0.92773414\n",
      "1.4712301\n",
      "0.94486237\n",
      "1.16821\n",
      "1.3606757\n",
      "0.64865786\n",
      "0.97961175\n",
      "1.3318027\n",
      "1.1936697\n",
      "0.615793\n",
      "2.1228182\n",
      "1.272651\n",
      "1.0717685\n",
      "1.3052123\n",
      "1.2151872\n",
      "1.193057\n",
      "1.6175653\n",
      "0.9158724\n",
      "1.0958289\n",
      "1.0006151\n",
      "1.5165726\n",
      "1.0870248\n",
      "1.2768513\n",
      "0.8853305\n",
      "1.5920163\n",
      "0.7648376\n",
      "0.8243405\n",
      "1.5490946\n",
      "1.5484054\n",
      "0.753795\n",
      "1.4232247\n",
      "0.83385843\n",
      "0.8054878\n",
      "1.1708912\n",
      "1.171094\n",
      "1.163407\n",
      "0.92194253\n",
      "0.6796685\n",
      "1.189197\n",
      "1.2706982\n",
      "1.2812335\n",
      "1.0045444\n",
      "1.2694418\n",
      "0.9502156\n",
      "0.8604173\n",
      "1.2106313\n",
      "1.2531805\n",
      "1.0351036\n",
      "1.3815979\n",
      "0.7056302\n",
      "0.67505324\n",
      "1.1674571\n",
      "1.2545485\n",
      "1.108129\n",
      "1.0606285\n",
      "0.78953016\n",
      "1.3084599\n",
      "0.81221664\n",
      "0.72642165\n",
      "1.263896\n",
      "0.97194016\n",
      "1.1686544\n",
      "0.8582383\n",
      "0.9369234\n"
     ]
    }
   ],
   "source": [
    "for batch_no in range(total_batches):\n",
    "    mnist_batch = mnist_data.train.next_batch(batch_size)\n",
    "    _, loss_value = session.run([optimizer, loss_operation], feed_dict={\n",
    "        x_input: mnist_batch[0],  # 입력 레이블\n",
    "        y_input: mnist_batch[1]   # 타깃 레이블\n",
    "    })\n",
    "    print(loss_value)"
   ]
  },
  {
   "cell_type": "code",
   "execution_count": 95,
   "metadata": {},
   "outputs": [
    {
     "name": "stdout",
     "output_type": "stream",
     "text": [
      "Accuracy :  0.8052\n"
     ]
    }
   ],
   "source": [
    "# 모델이 잘 동작하는지 테스트\n",
    "# tf.argmax: 텐서 내의 지정된 축(0: 열, 1: 행, 2: 면)에서 가장 높은 값의 인덱스 반환\n",
    "\n",
    "# 정확도 계산\n",
    "# 1. 가장 큰 값의 인덱스가 예측값\n",
    "predictions = tf.argmax(logits, 1)\n",
    "# 2. 예측값과 정답이 일치하는지 비교\n",
    "correct_predictions = tf.equal(predictions, tf.argmax(y_input, 1))\n",
    "# 3. 일치 여부를 평균내어 정확도 계산\n",
    "accuracy_operation = tf.reduce_mean(tf.cast(correct_predictions,\n",
    "                                            tf.float32))\n",
    "test_images, test_labels = mnist_data.test.images, mnist_data.test.labels\n",
    "accuracy_value = session.run(accuracy_operation, feed_dict={\n",
    "    x_input: test_images,\n",
    "    y_input: test_labels\n",
    "})\n",
    "print('Accuracy : ', accuracy_value)\n",
    "session.close()"
   ]
  },
  {
   "cell_type": "code",
   "execution_count": null,
   "metadata": {},
   "outputs": [],
   "source": []
  }
 ],
 "metadata": {
  "kernelspec": {
   "display_name": "Python 3",
   "language": "python",
   "name": "python3"
  },
  "language_info": {
   "codemirror_mode": {
    "name": "ipython",
    "version": 3
   },
   "file_extension": ".py",
   "mimetype": "text/x-python",
   "name": "python",
   "nbconvert_exporter": "python",
   "pygments_lexer": "ipython3",
   "version": "3.6.6"
  }
 },
 "nbformat": 4,
 "nbformat_minor": 2
}
