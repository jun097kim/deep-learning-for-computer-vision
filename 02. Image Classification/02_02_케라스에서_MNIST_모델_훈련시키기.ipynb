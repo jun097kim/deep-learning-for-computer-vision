{
  "nbformat": 4,
  "nbformat_minor": 0,
  "metadata": {
    "colab": {
      "name": "02-02. 케라스에서 MNIST 모델 훈련시키기.ipynb",
      "version": "0.3.2",
      "provenance": [],
      "include_colab_link": true
    },
    "kernelspec": {
      "name": "python3",
      "display_name": "Python 3"
    },
    "accelerator": "TPU"
  },
  "cells": [
    {
      "cell_type": "markdown",
      "metadata": {
        "id": "view-in-github",
        "colab_type": "text"
      },
      "source": [
        "<a href=\"https://colab.research.google.com/github/jun097kim/deep-learning-for-computer-vision/blob/master/02.%20Image%20Classification/02_02_%EC%BC%80%EB%9D%BC%EC%8A%A4%EC%97%90%EC%84%9C_MNIST_%EB%AA%A8%EB%8D%B8_%ED%9B%88%EB%A0%A8%EC%8B%9C%ED%82%A4%EA%B8%B0.ipynb\" target=\"_parent\"><img src=\"https://colab.research.google.com/assets/colab-badge.svg\" alt=\"Open In Colab\"/></a>"
      ]
    },
    {
      "metadata": {
        "id": "au2J0SsRNTee",
        "colab_type": "code",
        "colab": {}
      },
      "cell_type": "code",
      "source": [
        "import tensorflow as tf"
      ],
      "execution_count": 0,
      "outputs": []
    },
    {
      "metadata": {
        "id": "lYOviMGXNTej",
        "colab_type": "text"
      },
      "cell_type": "markdown",
      "source": [
        "## 데이터셋 준비하기"
      ]
    },
    {
      "metadata": {
        "id": "jD_JmJhYNTel",
        "colab_type": "code",
        "colab": {}
      },
      "cell_type": "code",
      "source": [
        "# 입력 이미지의 크기 설정\n",
        "batch_size = 128\n",
        "no_classes = 10\n",
        "epochs = 2\n",
        "image_height, image_width = 28, 28"
      ],
      "execution_count": 0,
      "outputs": []
    },
    {
      "metadata": {
        "id": "Fo3G_HkeNTeo",
        "colab_type": "code",
        "outputId": "8de5387a-d279-45a6-b059-bddaf700e9b3",
        "colab": {
          "base_uri": "https://localhost:8080/",
          "height": 85
        }
      },
      "cell_type": "code",
      "source": [
        "# 디스크에서 메모리로 데이터 로드\n",
        "(x_train, y_train), (x_test, y_test) = tf.keras.datasets.mnist.load_data()\n",
        "print(x_train.shape)\n",
        "print(y_train[:10])\n",
        "print(x_test.shape)\n",
        "print(y_test[:10])"
      ],
      "execution_count": 14,
      "outputs": [
        {
          "output_type": "stream",
          "text": [
            "(60000, 28, 28)\n",
            "[5 0 4 1 9 2 1 3 1 4]\n",
            "(10000, 28, 28)\n",
            "[7 2 1 0 4 1 4 9 5 9]\n"
          ],
          "name": "stdout"
        }
      ]
    },
    {
      "metadata": {
        "id": "51Qdsuj0NTeu",
        "colab_type": "code",
        "outputId": "74b26d3c-7d28-416b-e9d4-62c5019cf6e6",
        "colab": {
          "base_uri": "https://localhost:8080/",
          "height": 51
        }
      },
      "cell_type": "code",
      "source": [
        "# 벡터를 이미지 형식으로 변경\n",
        "x_train = x_train.reshape(x_train.shape[0], image_height, image_width, 1)\n",
        "x_test = x_test.reshape(x_test.shape[0], image_height, image_width, 1)\n",
        "input_shape = (image_height, image_width, 1)\n",
        "print(x_train.shape)\n",
        "print(x_test.shape)"
      ],
      "execution_count": 15,
      "outputs": [
        {
          "output_type": "stream",
          "text": [
            "(60000, 28, 28, 1)\n",
            "(10000, 28, 28, 1)\n"
          ],
          "name": "stdout"
        }
      ]
    },
    {
      "metadata": {
        "id": "u5ElnfatNTe0",
        "colab_type": "code",
        "colab": {}
      },
      "cell_type": "code",
      "source": [
        "x_train = x_train.astype('float32')\n",
        "x_test = x_test.astype('float32')"
      ],
      "execution_count": 0,
      "outputs": []
    },
    {
      "metadata": {
        "id": "pG6XQqusNTe3",
        "colab_type": "code",
        "colab": {}
      },
      "cell_type": "code",
      "source": [
        "# 0~255 사이의 정수를 0~1 사이의 실수로 Normalize\n",
        "x_train /= 255\n",
        "x_test /= 255"
      ],
      "execution_count": 0,
      "outputs": []
    },
    {
      "metadata": {
        "id": "UBl22CrvNTe7",
        "colab_type": "code",
        "outputId": "8b288426-7b25-4dbb-b430-293553828543",
        "colab": {
          "base_uri": "https://localhost:8080/",
          "height": 34
        }
      },
      "cell_type": "code",
      "source": [
        "# 레이블을 one-hot 인코딩으로 변환\n",
        "y_train = tf.keras.utils.to_categorical(y_train, no_classes)\n",
        "y_test = tf.keras.utils.to_categorical(y_test, no_classes)\n",
        "y_train.shape"
      ],
      "execution_count": 18,
      "outputs": [
        {
          "output_type": "execute_result",
          "data": {
            "text/plain": [
              "(60000, 10)"
            ]
          },
          "metadata": {
            "tags": []
          },
          "execution_count": 18
        }
      ]
    },
    {
      "metadata": {
        "id": "kZMSUCIANTe-",
        "colab_type": "text"
      },
      "cell_type": "markdown",
      "source": [
        "## 모델 구축하기"
      ]
    },
    {
      "metadata": {
        "id": "GnL7-uKPNTe-",
        "colab_type": "code",
        "colab": {}
      },
      "cell_type": "code",
      "source": [
        "def simple_cnn(input_shape):\n",
        "    model = tf.keras.models.Sequential()\n",
        "    # 첫 번째 레이어. 64개의 필터가 있음\n",
        "    model.add(tf.keras.layers.Conv2D(\n",
        "        filters=64,\n",
        "        kernel_size=(3, 3),\n",
        "        activation='relu',\n",
        "        input_shape=input_shape\n",
        "    ))\n",
        "    # 두 번째 레이어. 128개 필터가 있음\n",
        "    model.add(tf.keras.layers.Conv2D(\n",
        "        filters=128,\n",
        "        kernel_size=(3, 3),\n",
        "        activation='relu'\n",
        "    ))\n",
        "    model.add(tf.keras.layers.MaxPooling2D(pool_size=(2, 2)))\n",
        "    # Dropout을 Fully-connected 레이어에 연결\n",
        "    model.add(tf.keras.layers.Dropout(rate=0.3))\n",
        "    model.add(tf.keras.layers.Flatten())\n",
        "    model.add(tf.keras.layers.Dense(units=1024, activation='relu'))\n",
        "    # Dropout을 Output 레이어에 연결\n",
        "    model.add(tf.keras.layers.Dropout(rate=0.3))\n",
        "    model.add(tf.keras.layers.Dense(units=no_classes, activation='softmax'))\n",
        "    model.compile(loss=tf.keras.losses.categorical_crossentropy,\n",
        "                  optimizer=tf.keras.optimizers.Adam(),\n",
        "                  metrics=['accuracy'])  # 평가 기준\n",
        "    return model\n",
        "simple_cnn_model = simple_cnn(input_shape)"
      ],
      "execution_count": 0,
      "outputs": []
    },
    {
      "metadata": {
        "id": "hLtJwcddNTfC",
        "colab_type": "code",
        "outputId": "0a6fb5c0-da73-4eda-d6e2-a7d4fbef6ee1",
        "colab": {
          "base_uri": "https://localhost:8080/",
          "height": 85
        }
      },
      "cell_type": "code",
      "source": [
        "simple_cnn_model.fit(x_train, y_train, batch_size, epochs, (x_test, y_test))\n",
        "train_loss, train_accuracy = simple_cnn_model.evaluate(x_train, y_train, verbose=0)\n",
        "print('Train data loss:', train_loss)\n",
        "print('Train data accuracy:', train_accuracy)"
      ],
      "execution_count": 20,
      "outputs": [
        {
          "output_type": "stream",
          "text": [
            "Epoch 1/2\n",
            "Epoch 2/2\n",
            "Train data loss: 0.022741933655137353\n",
            "Train data accuracy: 0.99285\n"
          ],
          "name": "stdout"
        }
      ]
    },
    {
      "metadata": {
        "id": "a5t-0wc8NTfH",
        "colab_type": "code",
        "outputId": "b10bef47-5707-41a7-93a0-daa496da71ed",
        "colab": {
          "base_uri": "https://localhost:8080/",
          "height": 51
        }
      },
      "cell_type": "code",
      "source": [
        "test_loss = test_accuracy = simple_cnn_model.evaluate(\n",
        "    x_test, y_test, verbose=0)\n",
        "print('Test data loss:', test_loss)\n",
        "print('Test data accuracy:', test_accuracy)"
      ],
      "execution_count": 21,
      "outputs": [
        {
          "output_type": "stream",
          "text": [
            "Test data loss: [0.03654190412738826, 0.9869]\n",
            "Test data accuracy: [0.03654190412738826, 0.9869]\n"
          ],
          "name": "stdout"
        }
      ]
    }
  ]
}